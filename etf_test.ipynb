{
 "cells": [
  {
   "cell_type": "code",
   "execution_count": 1,
   "id": "athletic-secret",
   "metadata": {},
   "outputs": [
    {
     "data": {
      "text/plain": [
       "svmem(total=17073303552, available=4375105536, percent=74.4, used=12698198016, free=4375105536)"
      ]
     },
     "execution_count": 1,
     "metadata": {},
     "output_type": "execute_result"
    }
   ],
   "source": [
    "from pathlib import Path\n",
    "import pandas as pd\n",
    "import os\n",
    "import csv\n",
    "import numpy as np\n",
    "import requests\n",
    "import time\n",
    "import io\n",
    "import yfinance as yf\n",
    "import warnings\n",
    "# Initial imports\n",
    "#%tensorflow_version 1.x\n",
    "import tensorflow\n",
    "import mibian\n",
    "import numpy as np\n",
    "import pandas as pd\n",
    "import matplotlib.pyplot as plt\n",
    "import lstm\n",
    "import psutil\n",
    "psutil.virtual_memory()"
   ]
  },
  {
   "cell_type": "code",
   "execution_count": null,
   "id": "separate-doctrine",
   "metadata": {},
   "outputs": [],
   "source": [
    "##This is a place holder, the real dataframe we load will have the signals already implemented\n",
    "\n",
    "df = pd.read_pickle('etf.pickle')"
   ]
  },
  {
   "cell_type": "code",
   "execution_count": null,
   "id": "amateur-genius",
   "metadata": {},
   "outputs": [],
   "source": [
    "def test_reducer(df):\n",
    "    df = df.drop(colums# all unneded columns should be dropped)"
   ]
  },
  {
   "cell_type": "code",
   "execution_count": null,
   "id": "juvenile-surface",
   "metadata": {},
   "outputs": [],
   "source": [
    "df = test_reducer(df)"
   ]
  },
  {
   "cell_type": "code",
   "execution_count": 2,
   "id": "cardiovascular-scientist",
   "metadata": {},
   "outputs": [],
   "source": [
    "### Change %out an absolute value, put signals out of the money are going to be negatives\n",
    "### Or create multipliers of -1 for put targets\n",
    "\n",
    "##\n",
    "\n",
    "#atm = at the money\n",
    "#ctm = close to the money\n",
    "#otm = out of the money\n",
    "#ftm = further out of the money\n",
    "#xf = expire far\n",
    "#xm = expiring medium's distance\n",
    "#xs = expiring soon\n",
    "\n",
    "atm = .07\n",
    "ctm = .1\n",
    "otm = .15\n",
    "ftm = .2\n",
    "xf = 28\n",
    "xm = 19\n",
    "xs = 7\n",
    "def create_call_targets(df, atm, ctm, otm, xf, xm, xs):\n",
    "    df['atm_xf'] = df['time delta'] < np.timedelta64(xf, 'D') & (df['% out'] > -.01) & (df['% out'] < atm)\n",
    "    df['ctm_xf'] = df['time delta'] < np.timedelta64(xf, 'D') & (df['% out'] > atm) & (df['% out'] < ctm)\n",
    "    df['otm_xf'] = df['time delta'] < np.timedelta64(xf, 'D') & (df['% out'] > ctm) & (df['% out'] < otm)\n",
    "    df['ftm_xf'] = df['time delta'] < np.timedelta64(xf, 'D') & (df['% out'] > otm) & (df['% out'] < ftm)\n",
    "    df['atm_xm'] = df['time delta'] < np.timedelta64(xm, 'D') & (df['% out'] > 0) & (df['% out'] < atm)\n",
    "    df['ctm_xm'] = df['time delta'] < np.timedelta64(xm, 'D') & (df['% out'] > atm) & (df['% out'] < ctm)\n",
    "    df['otm_xm'] = df['time delta'] < np.timedelta64(xm, 'D') & (df['% out'] > ctm) & (df['% out'] < otm)\n",
    "    df['ftm_xm'] = df['time delta'] < np.timedelta64(xm, 'D') & (df['% out'] > otm) & (df['% out'] < ftm)\n",
    "    df['atm_xs'] = df['time delta'] < np.timedelta64(xs, 'D') & (df['% out'] > 0) & (df['% out'] < atm)\n",
    "    df['ctm_xs'] = df['time delta'] < np.timedelta64(xs, 'D') & (df['% out'] > atm) & (df['% out'] < ctm)\n",
    "    df['otm_xs'] = df['time delta'] < np.timedelta64(xs, 'D') & (df['% out'] > ctm) & (df['% out'] < otm)\n",
    "    return df\n",
    "\n",
    "def create_put_targets(df, atm, ctm, otm, xf, xm, xs):\n",
    "    df['atm_xf'] = df['time delta'] < np.timedelta64(xf, 'D') & (df['% out'] > .01) & (df['% out'] < (-1 * atm))\n",
    "    df['ctm_xf'] = df['time delta'] < np.timedelta64(xf, 'D') & (df['% out'] > (-1 * atm)) & (df['% out'] < (-1 * ctm))\n",
    "    df['otm_xf'] = df['time delta'] < np.timedelta64(xf, 'D') & (df['% out'] > (-1 * ctm)) & (df['% out'] < (-1 * otm))\n",
    "    df['ftm_xf'] = df['time delta'] < np.timedelta64(xf, 'D') & (df['% out'] > (-1 * otm)) & (df['% out'] < (-1 * ftm))\n",
    "    df['atm_xm'] = df['time delta'] < np.timedelta64(xm, 'D') & (df['% out'] >  0) & (df['% out'] < (-1 * atm))\n",
    "    df['ctm_xm'] = df['time delta'] < np.timedelta64(xm, 'D') & (df['% out'] > (-1 * atm)) & (df['% out'] < (-1 * ctm))\n",
    "    df['otm_xm'] = df['time delta'] < np.timedelta64(xm, 'D') & (df['% out'] > (-1 * ctm)) & (df['% out'] < (-1 * otm))\n",
    "    df['ftm_xm'] = df['time delta'] < np.timedelta64(xm, 'D') & (df['% out'] > (-1 * otm)) & (df['% out'] < (-1 * ftm))\n",
    "    df['atm_xs'] = df['time delta'] < np.timedelta64(xs, 'D') & (df['% out'] > (-1 * 0) )& (df['% out'] <(-1 *  atm))\n",
    "    df['ctm_xs'] = df['time delta'] < np.timedelta64(xs, 'D') & (df['% out'] > (-1 * atm)) & (df['% out'] < (-1 * ctm))\n",
    "    df['otm_xs'] = df['time delta'] < np.timedelta64(xs, 'D') & (df['% out'] > (-1 * ctm)) & (df['% out'] < (-1 * otm))\n",
    "    return df"
   ]
  },
  {
   "cell_type": "code",
   "execution_count": null,
   "id": "right-divorce",
   "metadata": {},
   "outputs": [],
   "source": [
    "#\n",
    "def prepare_test(df):\n",
    "    ##using map exp function already built\n",
    "    df = map_exp(df)\n",
    "    ## select options or puts df\n",
    "    df = select_df(df, symbol, option)\n",
    "    #create spread for potential spread strategy\n",
    "    df = create_spread(df)"
   ]
  },
  {
   "cell_type": "code",
   "execution_count": null,
   "id": "general-operation",
   "metadata": {},
   "outputs": [],
   "source": [
    "###Start appending values and creating csvs\n",
    "### Do this for every variation\n",
    "\n",
    "#add every test to a master frame?\n",
    "mf = {}\n",
    "def testing(df):\n",
    "    bl_1_LTSM = df.loc[(df['bl_1']== True) & (df['LSTM'] == 1)]\n",
    "    bl_1_LTSM['log'] = bl_1_LTSM['AskPrice'] - bl_1_LTSM['xp']\n",
    "    bl_1_LTSM_total = bl_1_LTSM['log'].sum()\n",
    "    bl_1_LTSM = short_close['log'].sum()\n",
    "    bl_1_LTSM_log = bl_1_LTSM['log'].copy#keep the data date\n",
    "    bl_1_LTSM_log.to_csv('bl_1_LTSM.csv')\n"
   ]
  },
  {
   "cell_type": "code",
   "execution_count": null,
   "id": "metallic-sessions",
   "metadata": {
    "jupyter": {
     "source_hidden": true
    }
   },
   "outputs": [],
   "source": [
    "#Create signal columns that will enter us in to a strategy\n",
    "\n",
    "\n",
    "###To be added, when br_1 is true and RF is -1, add 1\n",
    "###replicate for bl and LTSM\n",
    "\n",
    "\n",
    "\n",
    "def basic_signals(df):\n",
    "    #define emoty series for br and bl\n",
    "    br_1 = []\n",
    "    br_2 = []\n",
    "    bl_1 = []\n",
    "    bl_2 = []\n",
    "    for index, row in df.iterrows():\n",
    "        # Put signals and bollinger_signal -1 determines bearish signal\n",
    "        if (row['Put signals'] == True & row['bollinger_signal'] == -1):\n",
    "            br_1.append(True)\n",
    "        else:\n",
    "            br_1.append(False)\n",
    "        # Put signals and relative volatility 0 determines bearish signal\n",
    "        if (row['Put signals'] == True & row['rvol signal'] == 0):\n",
    "            br_2.append(True)\n",
    "        else:\n",
    "            br_2.append(False)\n",
    "        #high volatility + a put/call signal could identify stock movement\n",
    "        if (row['rvol signal'] == 1 & row['Call signals'] == True):\n",
    "            bl_1.append(True)\n",
    "        else:\n",
    "            bl_1.append(False)\n",
    "        #Put/call signal and Option rvol signals a bullish movement\n",
    "        if (row['Call signals'] == True and row['Option rVol'] > 1.4):\n",
    "            bl_2.append(True)\n",
    "        else:\n",
    "            bl_2.append(False)\n",
    "    #append series columns to dataframe\n",
    "    df['br_1'] = br_1\n",
    "    df['br_2'] = br_2\n",
    "    df['bl_1'] = bl_1\n",
    "    df['bl_2'] = bl_2\n",
    "    return df"
   ]
  }
 ],
 "metadata": {
  "kernelspec": {
   "display_name": "Python 3",
   "language": "python",
   "name": "python3"
  },
  "language_info": {
   "codemirror_mode": {
    "name": "ipython",
    "version": 3
   },
   "file_extension": ".py",
   "mimetype": "text/x-python",
   "name": "python",
   "nbconvert_exporter": "python",
   "pygments_lexer": "ipython3",
   "version": "3.8.3"
  }
 },
 "nbformat": 4,
 "nbformat_minor": 5
}
